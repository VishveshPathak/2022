{
 "cells": [
  {
   "cell_type": "code",
   "execution_count": 1,
   "id": "f38509a2",
   "metadata": {},
   "outputs": [],
   "source": [
    "def function():\n",
    "    height = [1,8,6,2,5,4,8,3,7]\n",
    "    n = len(height)\n",
    "    right_max = n - 1\n",
    "    counter = 0\n",
    "    area_max = 0\n",
    "    while right_max >= 0:\n",
    "        temp_area = min(height[counter], height[right_max]) * (right_max - counter)\n",
    "        if temp_area > area_max:\n",
    "            area_max = temp_area\n",
    "        counter = counter + 1\n",
    "        if counter >= right_max:\n",
    "            right_max = right_max - 1\n",
    "            counter = 0\n",
    "    return area_max"
   ]
  },
  {
   "cell_type": "code",
   "execution_count": 2,
   "id": "47d880c1",
   "metadata": {},
   "outputs": [
    {
     "data": {
      "text/plain": [
       "49"
      ]
     },
     "execution_count": 2,
     "metadata": {},
     "output_type": "execute_result"
    }
   ],
   "source": [
    "function()"
   ]
  },
  {
   "cell_type": "code",
   "execution_count": null,
   "id": "9bf3dc5f",
   "metadata": {},
   "outputs": [],
   "source": []
  }
 ],
 "metadata": {
  "kernelspec": {
   "display_name": "Python 3 (ipykernel)",
   "language": "python",
   "name": "python3"
  },
  "language_info": {
   "codemirror_mode": {
    "name": "ipython",
    "version": 3
   },
   "file_extension": ".py",
   "mimetype": "text/x-python",
   "name": "python",
   "nbconvert_exporter": "python",
   "pygments_lexer": "ipython3",
   "version": "3.9.13"
  }
 },
 "nbformat": 4,
 "nbformat_minor": 5
}
