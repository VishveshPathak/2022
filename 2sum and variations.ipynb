{
 "cells": [
  {
   "cell_type": "code",
   "execution_count": 23,
   "id": "24b4e32c",
   "metadata": {},
   "outputs": [],
   "source": [
    "#### naive appraoch\n",
    "# array = [-1,0,1,2,-1,-4]\n",
    "# solution_list = {}\n",
    "# def find_2_sum(array, target):\n",
    "#     for i in range(len(array)):\n",
    "#         to_match = target - array[i]\n",
    "#         for j in range(len(array)):\n",
    "#             if array[j] == to_match:\n",
    "#                 if i != j:\n",
    "#                     solution_list[target] = [array[i],array[j]]\n",
    "# solutions_ = []\n",
    "# to_check = []\n",
    "# for x in solution_list:\n",
    "#     to_check.append(x)\n",
    "# for i in array:\n",
    "#     find_2_sum(array, -1*i)\n",
    "#     if -1*i not in solution_list[x for x in to_check]:\n",
    "#         solutions_.append([i, solution_list[-1*i][0], solution_list[-1*i][1]])"
   ]
  },
  {
   "cell_type": "code",
   "execution_count": 25,
   "id": "0cb8693d",
   "metadata": {},
   "outputs": [],
   "source": [
    "# print(solutions_)"
   ]
  },
  {
   "cell_type": "code",
   "execution_count": 29,
   "id": "dd15d247",
   "metadata": {},
   "outputs": [
    {
     "name": "stdout",
     "output_type": "stream",
     "text": [
      "0 2\n",
      "repeated value\n",
      "2 0\n"
     ]
    }
   ],
   "source": [
    "#### using hashmap for frequency calculations\n",
    "# hashmap = {}\n",
    "# array = [-1,0,1,2,-1,-4]\n",
    "# def find_2_sum(array, target):\n",
    "#     for i in array:\n",
    "#         if i in hashmap:\n",
    "#             hashmap[i] = hashmap[i] + 1\n",
    "#         else:\n",
    "#             hashmap[i] = 1\n",
    "#     for i in array:\n",
    "#         if ( target - i ) in hashmap:\n",
    "#             if ( target - i )  == i and hashmap[i] < 2:\n",
    "#                 print('repeated value')\n",
    "#                 continue\n",
    "#             print(i, target - i)\n",
    "    \n",
    "# find_2_sum(array, 2)\n"
   ]
  },
  {
   "cell_type": "code",
   "execution_count": null,
   "id": "0f7a0266",
   "metadata": {},
   "outputs": [],
   "source": [
    "def three_sum():\n",
    "    pass"
   ]
  },
  {
   "cell_type": "code",
   "execution_count": 49,
   "id": "f78dfcb0",
   "metadata": {},
   "outputs": [],
   "source": [
    "set_= set([1,2])"
   ]
  },
  {
   "cell_type": "code",
   "execution_count": 50,
   "id": "6960e535",
   "metadata": {},
   "outputs": [],
   "source": [
    "set_.add(3)"
   ]
  },
  {
   "cell_type": "code",
   "execution_count": 51,
   "id": "f533bd59",
   "metadata": {},
   "outputs": [
    {
     "data": {
      "text/plain": [
       "{1, 2, 3}"
      ]
     },
     "execution_count": 51,
     "metadata": {},
     "output_type": "execute_result"
    }
   ],
   "source": [
    "set_"
   ]
  },
  {
   "cell_type": "code",
   "execution_count": null,
   "id": "bbb1bdb6",
   "metadata": {},
   "outputs": [],
   "source": [
    "# ### Solution that worked in leet code\n",
    "# def twoSum(self, nums: List[int], target: int) -> List[int]:\n",
    "#         hashmap = {}\n",
    "#         array = nums\n",
    "#         for i in range(len(array)):\n",
    "#             if array[i] in hashmap:\n",
    "#                 hashmap[array[i]].append(i)\n",
    "#             else:\n",
    "#                 hashmap[array[i]] = [i]\n",
    "#         print(hashmap)\n",
    "#         solution_set = []\n",
    "#         for i in range(len(array)):\n",
    "#             if target - array[i] in hashmap:\n",
    "#                 if array[i] == target - array[i] and len(hashmap[target - array[i]]) < 2:\n",
    "#                     continue\n",
    "#                 for j in hashmap[target - array[i]]:\n",
    "#                     if i != j:\n",
    "#                         solution_set.append(set([i,j]))\n",
    "#         print(solution_set)\n",
    "#         return solution_set[0]"
   ]
  }
 ],
 "metadata": {
  "kernelspec": {
   "display_name": "Python 3 (ipykernel)",
   "language": "python",
   "name": "python3"
  },
  "language_info": {
   "codemirror_mode": {
    "name": "ipython",
    "version": 3
   },
   "file_extension": ".py",
   "mimetype": "text/x-python",
   "name": "python",
   "nbconvert_exporter": "python",
   "pygments_lexer": "ipython3",
   "version": "3.9.13"
  }
 },
 "nbformat": 4,
 "nbformat_minor": 5
}
