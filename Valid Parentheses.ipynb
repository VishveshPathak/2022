{
 "cells": [
  {
   "cell_type": "code",
   "execution_count": 3,
   "id": "1813bacc",
   "metadata": {},
   "outputs": [],
   "source": [
    "def function():\n",
    "    s='{{}}[()]'\n",
    "    stack=[]\n",
    "    for i in range(len(s)):\n",
    "        if s[i]=='[' or s[i]=='(' or s[i] == '{':\n",
    "            stack.append(s[i])\n",
    "        else:\n",
    "            if len(stack)==0:\n",
    "                return False\n",
    "            else:\n",
    "                if s[i]==']' and stack[-1]=='[':\n",
    "                    stack=stack[:-1]\n",
    "                elif s[i]=='}' and stack[-1]=='{':\n",
    "                    stack=stack[:-1]\n",
    "                elif s[i]==')' and stack[-1]=='(':\n",
    "                    stack=stack[:-1]\n",
    "                else:\n",
    "                    return False\n",
    "        print(stack, s[i])\n",
    "    if len(stack)==0:\n",
    "        return True\n",
    "    else:\n",
    "        return False"
   ]
  },
  {
   "cell_type": "code",
   "execution_count": 4,
   "id": "9344456b",
   "metadata": {},
   "outputs": [
    {
     "name": "stdout",
     "output_type": "stream",
     "text": [
      "['{'] {\n",
      "['{', '{'] {\n",
      "['{'] }\n",
      "[] }\n",
      "['['] [\n",
      "['[', '('] (\n",
      "['['] )\n",
      "[] ]\n",
      "True\n"
     ]
    }
   ],
   "source": [
    "print(function())"
   ]
  },
  {
   "cell_type": "code",
   "execution_count": null,
   "id": "4ac3c88c",
   "metadata": {},
   "outputs": [],
   "source": []
  }
 ],
 "metadata": {
  "kernelspec": {
   "display_name": "Python 3 (ipykernel)",
   "language": "python",
   "name": "python3"
  },
  "language_info": {
   "codemirror_mode": {
    "name": "ipython",
    "version": 3
   },
   "file_extension": ".py",
   "mimetype": "text/x-python",
   "name": "python",
   "nbconvert_exporter": "python",
   "pygments_lexer": "ipython3",
   "version": "3.9.13"
  }
 },
 "nbformat": 4,
 "nbformat_minor": 5
}
