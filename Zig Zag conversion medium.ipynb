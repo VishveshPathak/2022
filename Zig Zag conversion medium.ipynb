{
 "cells": [
  {
   "cell_type": "code",
   "execution_count": 1,
   "id": "c8568790",
   "metadata": {},
   "outputs": [],
   "source": [
    "# solution \n",
    "# make as many arrays as number of rows, mod each element and append to the corresponding index\n",
    "s=\"paypalishiring\"\n",
    "output = []\n",
    "fill_down = True\n",
    "counter = 0 #rowcounter\n",
    "row_max = 2 #rownums-1\n",
    "for i in range(row_max+1):#rownums\n",
    "    output.append('')\n",
    "for i in range(len(s)):\n",
    "    if fill_down == True:\n",
    "        output[counter]=output[counter]+s[i]\n",
    "        counter = counter + 1\n",
    "    elif fill_down == False:\n",
    "        output[counter]=output[counter]+s[i]\n",
    "        counter = counter - 1\n",
    "    if counter == 0:\n",
    "        fill_down = True\n",
    "    if counter == row_max:\n",
    "        fill_down = False"
   ]
  },
  {
   "cell_type": "code",
   "execution_count": 2,
   "id": "0a2917ff",
   "metadata": {},
   "outputs": [
    {
     "data": {
      "text/plain": [
       "['pahn', 'aplsiig', 'yir']"
      ]
     },
     "execution_count": 2,
     "metadata": {},
     "output_type": "execute_result"
    }
   ],
   "source": [
    "res=\"\"\n",
    "for i in output:\n",
    "    res = res+i\n",
    "return res"
   ]
  },
  {
   "cell_type": "code",
   "execution_count": null,
   "id": "7e36327e",
   "metadata": {},
   "outputs": [],
   "source": []
  },
  {
   "cell_type": "code",
   "execution_count": 3,
   "id": "c0b53e24",
   "metadata": {},
   "outputs": [
    {
     "data": {
      "text/plain": [
       "'\\ndef convert(self, s: str, numRows: int) -> str:\\n        output = []\\n        fill_down = True\\n        counter = 0 #rowcounter\\n        row_max = numRows-1 #rownums-1\\n        for i in range(row_max+1):#rownums\\n            output.append(\\'\\')\\n        if numRows == 1:\\n            return s\\n        for i in range(len(s)):\\n            if fill_down == True:\\n                output[counter]=output[counter]+s[i]\\n                counter = counter + 1\\n            elif fill_down == False:\\n                output[counter]=output[counter]+s[i]\\n                counter = counter - 1\\n            if counter == 0:\\n                fill_down = True\\n            elif counter == row_max:\\n                fill_down = False\\n        res=\"\"\\n        for i in output:\\n            res = res+i\\n        return res\\n'"
      ]
     },
     "execution_count": 3,
     "metadata": {},
     "output_type": "execute_result"
    }
   ],
   "source": [
    "#### ACCEPTED SOLUTION corner case if numrows == 1: return same string\n",
    "\"\"\"\n",
    "def convert(self, s: str, numRows: int) -> str:\n",
    "        output = []\n",
    "        fill_down = True\n",
    "        counter = 0 #rowcounter\n",
    "        row_max = numRows-1 #rownums-1\n",
    "        for i in range(row_max+1):#rownums\n",
    "            output.append('')\n",
    "        if numRows == 1:\n",
    "            return s\n",
    "        for i in range(len(s)):\n",
    "            if fill_down == True:\n",
    "                output[counter]=output[counter]+s[i]\n",
    "                counter = counter + 1\n",
    "            elif fill_down == False:\n",
    "                output[counter]=output[counter]+s[i]\n",
    "                counter = counter - 1\n",
    "            if counter == 0:\n",
    "                fill_down = True\n",
    "            elif counter == row_max:\n",
    "                fill_down = False\n",
    "        res=\"\"\n",
    "        for i in output:\n",
    "            res = res+i\n",
    "        return res\n",
    "\"\"\""
   ]
  },
  {
   "cell_type": "code",
   "execution_count": null,
   "id": "4ceddade",
   "metadata": {},
   "outputs": [],
   "source": []
  }
 ],
 "metadata": {
  "kernelspec": {
   "display_name": "Python 3 (ipykernel)",
   "language": "python",
   "name": "python3"
  },
  "language_info": {
   "codemirror_mode": {
    "name": "ipython",
    "version": 3
   },
   "file_extension": ".py",
   "mimetype": "text/x-python",
   "name": "python",
   "nbconvert_exporter": "python",
   "pygments_lexer": "ipython3",
   "version": "3.9.13"
  }
 },
 "nbformat": 4,
 "nbformat_minor": 5
}
