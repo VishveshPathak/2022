{
 "cells": [
  {
   "cell_type": "code",
   "execution_count": 3,
   "id": "19989591",
   "metadata": {},
   "outputs": [
    {
     "data": {
      "text/plain": [
       "1024"
      ]
     },
     "execution_count": 3,
     "metadata": {},
     "output_type": "execute_result"
    }
   ],
   "source": [
    "def fast_exponenentiation():\n",
    "    pass\n",
    "hashmap={}\n",
    "def POW(x, n):\n",
    "    if str(x)+', '+str(n) in hashmap:\n",
    "        return hashmap[str(x)+', '+str(n)]\n",
    "    else:\n",
    "        if n == 0:\n",
    "            return 1\n",
    "        elif n == 1:\n",
    "            return x\n",
    "        else:\n",
    "            if n%2 == 0:\n",
    "                hashmap[str(x)+', '+str(n)] = POW(x, int(n/2)) * POW(x, int(n/2))\n",
    "                return hashmap[str(x)+', '+str(n)]\n",
    "            else:\n",
    "                hashmap[str(x)+', '+str(n)] = x * POW(x, int(n/2)) * POW(x, int(n/2))\n",
    "                return hashmap[str(x)+', '+str(n)]\n",
    "def negPOW(x, n):\n",
    "    if str(x)+', '+str(n) in hashmap:\n",
    "        return hashmap[str(x)+', '+str(n)]\n",
    "    else:\n",
    "        if n == 0:\n",
    "            return 1\n",
    "        elif n == 1:\n",
    "            return x\n",
    "        else:\n",
    "            if n%2 == 0:\n",
    "                hashmap[str(x)+', '+str(n)] = 1 / (POW(x, int(n/2)) * POW(x, int(n/2)))\n",
    "                return hashmap[str(x)+', '+str(n)]\n",
    "            else:\n",
    "                hashmap[str(x)+', '+str(n)] = 1 / (x * POW(x, int(n/2)) * POW(x, int(n/2)))\n",
    "                return hashmap[str(x)+', '+str(n)]\n",
    "if n>0:\n",
    "    return POW(x,n)\n",
    "else:\n",
    "    return negPOW(x,n)"
   ]
  },
  {
   "cell_type": "code",
   "execution_count": 4,
   "id": "89873790",
   "metadata": {},
   "outputs": [
    {
     "data": {
      "text/plain": [
       "{'2, 2': 4, '2, 5': 32, '2, 10': 1024}"
      ]
     },
     "execution_count": 4,
     "metadata": {},
     "output_type": "execute_result"
    }
   ],
   "source": [
    "hashmap"
   ]
  },
  {
   "cell_type": "code",
   "execution_count": null,
   "id": "9f369f1c",
   "metadata": {},
   "outputs": [],
   "source": [
    "#solution does not work due to TLE however same solution in C++ is accepted, to make this solution run, some corner cases must be appended as follows"
   ]
  },
  {
   "cell_type": "code",
   "execution_count": null,
   "id": "f0fb21d3",
   "metadata": {},
   "outputs": [],
   "source": [
    "class Solution:\n",
    "    def myPow(self, x: float, n: int) -> float:\n",
    "        hashmap={}\n",
    "        ##for ending loop before it takes too much \n",
    "        if x == -1:\n",
    "            if n%2==0:\n",
    "                return 1\n",
    "            else:\n",
    "                return -1\n",
    "        if x == 1:\n",
    "            return 1\n",
    "        if n>100000 and x<0.1 and x>-0.1:\n",
    "            return 0\n",
    "        if n<-10000000 and x!=1:\n",
    "            return 0\n",
    "        \n",
    "        def POW(x, n):\n",
    "            hashmap={}\n",
    "            if str(x)+', '+str(n) in hashmap:\n",
    "                return hashmap[str(x)+', '+str(n)]\n",
    "            else:\n",
    "                if n == 0:\n",
    "                    return 1\n",
    "                elif n == 1:\n",
    "                    return x\n",
    "                else:\n",
    "                    if n%2 == 0:\n",
    "                        hashmap[str(x)+', '+str(n)] = POW(x, int(n/2)) * POW(x, int(n/2))\n",
    "                        return hashmap[str(x)+', '+str(n)]\n",
    "                    else:\n",
    "                        hashmap[str(x)+', '+str(n)] = x * POW(x, int(n/2)) * POW(x, int(n/2))\n",
    "                        return hashmap[str(x)+', '+str(n)]\n",
    "        def negPOW(x, n):\n",
    "            if str(x)+', '+str(n) in hashmap:\n",
    "                return hashmap[str(x)+', '+str(n)]\n",
    "            else:\n",
    "                if n == 0:\n",
    "                    return 1\n",
    "                elif n == 1:\n",
    "                    return x\n",
    "                else:\n",
    "                    if n%2 == 0:\n",
    "                        hashmap[str(x)+', '+str(n)] = 1 / (POW(x, int(n/2)) * POW(x, int(n/2)))\n",
    "                        return hashmap[str(x)+', '+str(n)]\n",
    "                    else:\n",
    "                        hashmap[str(x)+', '+str(n)] = 1 / (x * POW(x, int(n/2)) * POW(x, int(n/2)))\n",
    "                        return hashmap[str(x)+', '+str(n)]\n",
    "        if n>0:\n",
    "            return POW(x,n)\n",
    "        else:\n",
    "            return negPOW(x,n)"
   ]
  }
 ],
 "metadata": {
  "kernelspec": {
   "display_name": "Python 3 (ipykernel)",
   "language": "python",
   "name": "python3"
  },
  "language_info": {
   "codemirror_mode": {
    "name": "ipython",
    "version": 3
   },
   "file_extension": ".py",
   "mimetype": "text/x-python",
   "name": "python",
   "nbconvert_exporter": "python",
   "pygments_lexer": "ipython3",
   "version": "3.9.13"
  }
 },
 "nbformat": 4,
 "nbformat_minor": 5
}
