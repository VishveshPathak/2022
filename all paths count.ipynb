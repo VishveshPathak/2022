{
 "cells": [
  {
   "cell_type": "code",
   "execution_count": null,
   "id": "6e26cbd6",
   "metadata": {},
   "outputs": [],
   "source": [
    "tail = 4\n",
    "def find_paths(head, visited, sum_):\n",
    "    if head in visited:\n",
    "        return 0\n",
    "    if head == tail:\n",
    "        return 1\n",
    "    else:\n",
    "        sum_= sum_ _find(paths)\n",
    "        return sum_ + find_paths()"
   ]
  },
  {
   "cell_type": "code",
   "execution_count": 9,
   "id": "a3764401",
   "metadata": {},
   "outputs": [
    {
     "name": "stdout",
     "output_type": "stream",
     "text": [
      "3 0 8\n",
      "1 0 7\n",
      "1 0 6\n",
      "1 0 5\n",
      "1 0 4\n",
      "1 0 3\n",
      "1 0 2\n",
      "1 0 1\n",
      "1 1 8\n",
      "7 1 7\n",
      "3 1 6\n",
      "8 1 5\n",
      "4 1 4\n",
      "5 1 3\n",
      "2 1 2\n",
      "6 2 8\n",
      "6 2 7\n",
      "3 2 6\n",
      "6 2 5\n",
      "4 2 4\n",
      "5 2 3\n",
      "2 3 8\n",
      "2 3 7\n",
      "2 3 6\n",
      "2 3 5\n",
      "2 3 4\n",
      "2 4 8\n",
      "5 4 7\n",
      "3 4 6\n",
      "5 4 5\n",
      "4 5 8\n",
      "4 5 7\n",
      "3 5 6\n",
      "4 6 8\n",
      "7 6 7\n",
      "3 7 8\n",
      "49\n"
     ]
    }
   ],
   "source": [
    "height = [1,8,6,2,5,4,8,3,7]\n",
    "i = 0\n",
    "j = len(height)-1\n",
    "max_area = 0\n",
    "while i<j:\n",
    "    while j>i:\n",
    "        print(l, i, j)\n",
    "        l=min(height[j], height[i])\n",
    "        if l*abs(j-i)>max_area:\n",
    "            max_area=l*abs(j-i)\n",
    "        j=j-1\n",
    "    j=len(height)-1\n",
    "    i=i+1\n",
    "print(max_area)"
   ]
  },
  {
   "cell_type": "code",
   "execution_count": null,
   "id": "c8946f2b",
   "metadata": {},
   "outputs": [],
   "source": []
  }
 ],
 "metadata": {
  "kernelspec": {
   "display_name": "Python 3 (ipykernel)",
   "language": "python",
   "name": "python3"
  },
  "language_info": {
   "codemirror_mode": {
    "name": "ipython",
    "version": 3
   },
   "file_extension": ".py",
   "mimetype": "text/x-python",
   "name": "python",
   "nbconvert_exporter": "python",
   "pygments_lexer": "ipython3",
   "version": "3.9.13"
  }
 },
 "nbformat": 4,
 "nbformat_minor": 5
}
